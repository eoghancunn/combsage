{
 "cells": [
  {
   "cell_type": "code",
   "execution_count": 1,
   "metadata": {},
   "outputs": [
    {
     "name": "stderr",
     "output_type": "stream",
     "text": [
      "/home/eoghan/anaconda3/envs/academic_graph_env/lib/python3.9/site-packages/torch_geometric/typing.py:54: UserWarning: An issue occurred while importing 'pyg-lib'. Disabling its usage. Stacktrace: /lib/x86_64-linux-gnu/libm.so.6: version `GLIBC_2.29' not found (required by /home/eoghan/anaconda3/envs/academic_graph_env/lib/python3.9/site-packages/libpyg.so)\n",
      "  warnings.warn(f\"An issue occurred while importing 'pyg-lib'. \"\n",
      "/home/eoghan/anaconda3/envs/academic_graph_env/lib/python3.9/site-packages/torch_geometric/typing.py:72: UserWarning: An issue occurred while importing 'torch-scatter'. Disabling its usage. Stacktrace: libcudart.so.10.2: cannot open shared object file: No such file or directory\n",
      "  warnings.warn(f\"An issue occurred while importing 'torch-scatter'. \"\n",
      "/home/eoghan/anaconda3/envs/academic_graph_env/lib/python3.9/site-packages/torch_geometric/typing.py:110: UserWarning: An issue occurred while importing 'torch-sparse'. Disabling its usage. Stacktrace: libcudart.so.10.2: cannot open shared object file: No such file or directory\n",
      "  warnings.warn(f\"An issue occurred while importing 'torch-sparse'. \"\n",
      "/home/eoghan/anaconda3/envs/academic_graph_env/lib/python3.9/site-packages/transformers/utils/generic.py:441: UserWarning: torch.utils._pytree._register_pytree_node is deprecated. Please use torch.utils._pytree.register_pytree_node instead.\n",
      "  _torch_pytree._register_pytree_node(\n",
      "/home/eoghan/anaconda3/envs/academic_graph_env/lib/python3.9/site-packages/pandas/core/arrays/masked.py:62: UserWarning: Pandas requires version '1.3.4' or newer of 'bottleneck' (version '1.3.2' currently installed).\n",
      "  from pandas.core import (\n",
      "/home/eoghan/anaconda3/envs/academic_graph_env/lib/python3.9/site-packages/torchvision/io/image.py:11: UserWarning: Failed to load image Python extension: /home/eoghan/anaconda3/envs/academic_graph_env/lib/python3.9/site-packages/torchvision/image.so: undefined symbol: _ZN3c1017RegisterOperatorsD1Ev\n",
      "  warn(f\"Failed to load image Python extension: {e}\")\n"
     ]
    }
   ],
   "source": [
    "import torch\n",
    "import torch.nn as nn\n",
    "import torch.nn.functional as F\n",
    "import dgl\n",
    "import dgl.nn as dglnn\n",
    "from torch_geometric.utils import negative_sampling\n",
    "from torch_geometric.seed import seed_everything\n",
    "import pandas as pd\n",
    "import numpy as np\n",
    "import tqdm\n",
    "import networkx as nx\n",
    "\n",
    "from combsage.combsage import IDRSAGEJK\n",
    "from combsage.utils import evaluate, convert_to_heterograph_group_isolates\n",
    "from combsage.utils import HetEdgePredictionSampler, HomoNeighborSampler"
   ]
  },
  {
   "cell_type": "code",
   "execution_count": 2,
   "metadata": {},
   "outputs": [
    {
     "name": "stdout",
     "output_type": "stream",
     "text": [
      "  NumNodes: 2708\n",
      "  NumEdges: 10556\n",
      "  NumFeats: 1433\n",
      "  NumClasses: 7\n",
      "  NumTrainingSamples: 140\n",
      "  NumValidationSamples: 500\n",
      "  NumTestSamples: 1000\n",
      "Done loading data from cached files.\n"
     ]
    }
   ],
   "source": [
    "import dgl.data\n",
    "\n",
    "dataset = dgl.data.CoraGraphDataset()\n",
    "g = dataset[0]"
   ]
  },
  {
   "cell_type": "code",
   "execution_count": 3,
   "metadata": {},
   "outputs": [],
   "source": [
    "config = {'r1':15, 'r2':10, 'lr':0.001, 'batch_size':256, 'dropout':0.1}\n",
    "device = 'cpu'"
   ]
  },
  {
   "cell_type": "code",
   "execution_count": 4,
   "metadata": {},
   "outputs": [],
   "source": [
    "# split data\n",
    "neg_edge_index = negative_sampling(edge_index=torch.vstack(g.edges()),\n",
    "                                num_nodes=g.number_of_nodes(), \n",
    "                                num_neg_samples=g.number_of_edges())\n",
    "\n",
    "# Split edge set for training and testing\n",
    "u, v = g.edges()\n",
    "\n",
    "eids = np.arange(g.number_of_edges())\n",
    "eids = np.random.permutation(eids)\n",
    "val_size = int(len(eids) * 0.1)\n",
    "val_pos_u, val_pos_v = u[eids[:val_size]], v[eids[:val_size]]\n",
    "\n",
    "# Find all negative edges and split them for training and testing\n",
    "neg_u, neg_v = neg_edge_index[0], neg_edge_index[1]\n",
    "\n",
    "neg_eids = np.random.choice(len(neg_u), g.number_of_edges())\n",
    "val_neg_u, val_neg_v = neg_u[neg_eids[:val_size]], neg_v[neg_eids[:val_size]]\n",
    "\n",
    "val_pos_g = dgl.graph((val_pos_u, val_pos_v), num_nodes=g.number_of_nodes())\n",
    "val_neg_g = dgl.graph((val_neg_u, val_neg_v), num_nodes=g.number_of_nodes())\n",
    "\n",
    "train_g = dgl.remove_edges(g, eids[:val_size])"
   ]
  },
  {
   "cell_type": "code",
   "execution_count": 5,
   "metadata": {},
   "outputs": [
    {
     "data": {
      "text/plain": [
       "Graph(num_nodes={'paper': 2708},\n",
       "      num_edges={('paper', '1', 'paper'): 4856, ('paper', '10', 'paper'): 2, ('paper', '11', 'paper'): 2, ('paper', '2', 'paper'): 4925, ('paper', '3', 'paper'): 507, ('paper', '4', 'paper'): 79, ('paper', '5', 'paper'): 35, ('paper', '6', 'paper'): 20, ('paper', '7', 'paper'): 16, ('paper', '8', 'paper'): 10, ('paper', '9', 'paper'): 6},\n",
       "      metagraph=[('paper', 'paper', '1'), ('paper', 'paper', '10'), ('paper', 'paper', '11'), ('paper', 'paper', '2'), ('paper', 'paper', '3'), ('paper', 'paper', '4'), ('paper', 'paper', '5'), ('paper', 'paper', '6'), ('paper', 'paper', '7'), ('paper', 'paper', '8'), ('paper', 'paper', '9')])"
      ]
     },
     "execution_count": 5,
     "metadata": {},
     "output_type": "execute_result"
    }
   ],
   "source": [
    "edge_list = pd.DataFrame(torch.vstack(train_g.edges()).T)\n",
    "edge_list.columns = ['source', 'target']\n",
    "G = nx.from_pandas_edgelist(edge_list)\n",
    "\n",
    "# convert graph to heterogenous graph to annotate edges according to community membership \n",
    "g_hetero = convert_to_heterograph_group_isolates(G, n_nodes = train_g.number_of_nodes()).to(device)\n",
    "\n",
    "n_types = max([int(t) for t in g_hetero.etypes])\n",
    "e_tensors = [g_hetero.edges(etype = etype) for etype in sorted(g_hetero.etypes, key = int)]\n",
    "src = torch.hstack([e[0] for e in e_tensors])\n",
    "dst = torch.hstack([e[1] for e in e_tensors])\n",
    "\n",
    "# preserve homogenous version of the graph\n",
    "g_homo = dgl.heterograph({('paper','1','paper'):(src,dst)})\n",
    "g_hetero.ndata['feat'] = train_g.ndata['feat']\n",
    "g_hetero.ndata['feat'] = g_hetero.ndata['feat']\n",
    "\n",
    "g_homo.to(device)\n",
    "g_hetero.to(device);"
   ]
  },
  {
   "cell_type": "code",
   "execution_count": 6,
   "metadata": {},
   "outputs": [],
   "source": [
    "model = IDRSAGEJK(g_hetero.ndata['feat'].shape[1], 256,\n",
    "            n_types, dropout = config['dropout'])\n",
    "model.to(device)\n",
    "\n",
    "opt = torch.optim.Adam(model.parameters(), lr=config['lr'])\n",
    "edge_dict = {etype: g_hetero.edges(etype = etype, form = 'all')[-1] for etype in g_hetero.etypes}\n",
    "\n",
    "sampler = HomoNeighborSampler([config['r1'],config['r2']], prefetch_node_feats=['feat'])\n",
    "sampler = HetEdgePredictionSampler(\n",
    "        sampler, g_homo = g_homo,\n",
    "        negative_sampler=dgl.dataloading.negative_sampler.Uniform(1))\n",
    "\n",
    "dataloader = dgl.dataloading.DataLoader(\n",
    "        g_hetero, edge_dict, sampler,\n",
    "        device=device, batch_size= config['batch_size'], shuffle=True,\n",
    "        drop_last=False, num_workers=10)"
   ]
  },
  {
   "cell_type": "code",
   "execution_count": 7,
   "metadata": {},
   "outputs": [
    {
     "name": "stderr",
     "output_type": "stream",
     "text": [
      "Epoch: 0:   0%|                                                                             | 0/41 [00:00<?, ?it/s]/home/eoghan/anaconda3/envs/academic_graph_env/lib/python3.9/site-packages/dgl/backend/pytorch/tensor.py:352: UserWarning: TypedStorage is deprecated. It will be removed in the future and UntypedStorage will be the only storage class. This should only matter to you if you are using storages directly.  To access UntypedStorage directly, use tensor.untyped_storage() instead of tensor.storage()\n",
      "  assert input.numel() == input.storage().size(), \"Cannot convert view \" \\\n",
      "Epoch: 0: 100%|████████████████████████████████████████████████████████| 41/41 [00:56<00:00,  1.38s/it, loss=0.654]\n",
      "Inference.: 100%|████████████████████████████████████████████████████████████████████| 1/1 [00:00<00:00,  1.14it/s]\n",
      "Inference.: 100%|████████████████████████████████████████████████████████████████████| 1/1 [00:00<00:00,  3.26it/s]\n",
      "Epoch: 1: 100%|████████████████████████████████████████████████████████| 41/41 [00:59<00:00,  1.46s/it, loss=0.579]\n",
      "Inference.: 100%|████████████████████████████████████████████████████████████████████| 1/1 [00:00<00:00,  1.18it/s]\n",
      "Inference.: 100%|████████████████████████████████████████████████████████████████████| 1/1 [00:00<00:00,  3.08it/s]\n",
      "Epoch: 2: 100%|████████████████████████████████████████████████████████| 41/41 [00:57<00:00,  1.40s/it, loss=0.579]\n",
      "Inference.: 100%|████████████████████████████████████████████████████████████████████| 1/1 [00:00<00:00,  1.17it/s]\n",
      "Inference.: 100%|████████████████████████████████████████████████████████████████████| 1/1 [00:00<00:00,  2.97it/s]\n",
      "Epoch: 3: 100%|████████████████████████████████████████████████████████| 41/41 [00:59<00:00,  1.45s/it, loss=0.534]\n",
      "Inference.: 100%|████████████████████████████████████████████████████████████████████| 1/1 [00:00<00:00,  1.13it/s]\n",
      "Inference.: 100%|████████████████████████████████████████████████████████████████████| 1/1 [00:00<00:00,  2.93it/s]\n",
      "Epoch: 4: 100%|████████████████████████████████████████████████████████| 41/41 [01:01<00:00,  1.49s/it, loss=0.509]\n",
      "Inference.: 100%|████████████████████████████████████████████████████████████████████| 1/1 [00:00<00:00,  1.09it/s]\n",
      "Inference.: 100%|████████████████████████████████████████████████████████████████████| 1/1 [00:00<00:00,  3.12it/s]\n",
      "Epoch: 5: 100%|████████████████████████████████████████████████████████| 41/41 [00:58<00:00,  1.42s/it, loss=0.474]\n",
      "Inference.: 100%|████████████████████████████████████████████████████████████████████| 1/1 [00:00<00:00,  1.06it/s]\n",
      "Inference.: 100%|████████████████████████████████████████████████████████████████████| 1/1 [00:00<00:00,  3.01it/s]\n",
      "Epoch: 6: 100%|████████████████████████████████████████████████████████| 41/41 [00:59<00:00,  1.46s/it, loss=0.471]\n",
      "Inference.: 100%|████████████████████████████████████████████████████████████████████| 1/1 [00:00<00:00,  1.15it/s]\n",
      "Inference.: 100%|████████████████████████████████████████████████████████████████████| 1/1 [00:00<00:00,  2.49it/s]\n",
      "Epoch: 7: 100%|████████████████████████████████████████████████████████| 41/41 [00:58<00:00,  1.42s/it, loss=0.363]\n",
      "Inference.: 100%|████████████████████████████████████████████████████████████████████| 1/1 [00:00<00:00,  1.17it/s]\n",
      "Inference.: 100%|████████████████████████████████████████████████████████████████████| 1/1 [00:00<00:00,  3.03it/s]\n",
      "Epoch: 8: 100%|████████████████████████████████████████████████████████| 41/41 [00:58<00:00,  1.44s/it, loss=0.296]\n",
      "Inference.: 100%|████████████████████████████████████████████████████████████████████| 1/1 [00:00<00:00,  1.09it/s]\n",
      "Inference.: 100%|████████████████████████████████████████████████████████████████████| 1/1 [00:00<00:00,  2.70it/s]\n",
      "Epoch: 9: 100%|████████████████████████████████████████████████████████| 41/41 [01:00<00:00,  1.48s/it, loss=0.294]\n",
      "Inference.: 100%|████████████████████████████████████████████████████████████████████| 1/1 [00:00<00:00,  1.45it/s]\n",
      "Inference.: 100%|████████████████████████████████████████████████████████████████████| 1/1 [00:00<00:00,  2.65it/s]"
     ]
    },
    {
     "name": "stdout",
     "output_type": "stream",
     "text": [
      "Finished Training\n"
     ]
    },
    {
     "name": "stderr",
     "output_type": "stream",
     "text": [
      "\n"
     ]
    }
   ],
   "source": [
    "best_loss = 100\n",
    "for epoch in range(10):\n",
    "    model.train()\n",
    "    # with dataloader.enable_cpu_affinity():\n",
    "    with tqdm.tqdm(dataloader) as tq:\n",
    "        for it, (input_nodes, pair_graph, neg_pair_graph, blocks) in enumerate(tq):\n",
    "            tq.set_description('Epoch: {}'.format(epoch))\n",
    "            x = {'paper':blocks[0].srcdata['feat']}\n",
    "            pos_score, neg_score = model(pair_graph, neg_pair_graph, blocks, x)\n",
    "            pos_label = torch.ones_like(pos_score)\n",
    "            neg_label = torch.zeros_like(neg_score)\n",
    "            score = torch.cat([pos_score, neg_score])\n",
    "            labels = torch.cat([pos_label, neg_label])\n",
    "            loss = F.binary_cross_entropy_with_logits(score, labels)\n",
    "            opt.zero_grad()\n",
    "            loss.backward()\n",
    "            opt.step()\n",
    "            tq.set_postfix({'loss':'{:.3f}'.format(loss.item())})\n",
    "    model.eval()\n",
    "    val_loss, val_auc, _, _ = evaluate(model, g_hetero, val_pos_g, val_neg_g)\n",
    "    if val_loss < best_loss:\n",
    "        best_loss = val_loss\n",
    "        best_params = model.state_dict()\n",
    "    # torch.save(best_params,params_path)\n",
    "print(\"Finished Training\")"
   ]
  },
  {
   "cell_type": "code",
   "execution_count": 8,
   "metadata": {},
   "outputs": [
    {
     "data": {
      "text/plain": [
       "0.9252173131780508"
      ]
     },
     "execution_count": 8,
     "metadata": {},
     "output_type": "execute_result"
    }
   ],
   "source": [
    "val_auc"
   ]
  }
 ],
 "metadata": {
  "kernelspec": {
   "display_name": "Python 3 (ipykernel)",
   "language": "python",
   "name": "python3"
  },
  "language_info": {
   "codemirror_mode": {
    "name": "ipython",
    "version": 3
   },
   "file_extension": ".py",
   "mimetype": "text/x-python",
   "name": "python",
   "nbconvert_exporter": "python",
   "pygments_lexer": "ipython3",
   "version": "3.9.7"
  }
 },
 "nbformat": 4,
 "nbformat_minor": 4
}
